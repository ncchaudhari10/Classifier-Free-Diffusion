{
 "cells": [
  {
   "cell_type": "markdown",
   "id": "f91e1b1c-6fda-4872-a597-0ee440fc8080",
   "metadata": {},
   "source": [
    "# Training Conditional and Unconditional diffusion model"
   ]
  },
  {
   "cell_type": "code",
   "execution_count": 1,
   "id": "569181ee-d9ac-44de-a49e-d165e73666a0",
   "metadata": {},
   "outputs": [
    {
     "name": "stderr",
     "output_type": "stream",
     "text": [
      "/home/nchaudhari/nchaudhari/lib/python3.10/site-packages/tqdm/auto.py:21: TqdmWarning: IProgress not found. Please update jupyter and ipywidgets. See https://ipywidgets.readthedocs.io/en/stable/user_install.html\n",
      "  from .autonotebook import tqdm as notebook_tqdm\n"
     ]
    }
   ],
   "source": [
    "import torch\n",
    "import torch.nn as nn\n",
    "from torch.utils.data import DataLoader\n",
    "from torchvision import transforms, datasets\n",
    "from diffusers import UNet2DModel, DDPMScheduler\n",
    "from tqdm import tqdm\n",
    "import matplotlib.pyplot as plt"
   ]
  },
  {
   "cell_type": "code",
   "execution_count": 2,
   "id": "03e34813-6dde-4f47-bcbf-9c091aa99c98",
   "metadata": {},
   "outputs": [],
   "source": [
    "# Data preprocessing\n",
    "image_size = 32\n",
    "batch_size = 128\n",
    "\n",
    "transform = transforms.Compose([\n",
    "    transforms.Resize((image_size, image_size)),\n",
    "    transforms.ToTensor(),\n",
    "    transforms.Lambda(lambda x: x * 2.0 - 1.0),  # [-1, 1]\n",
    "])\n",
    "\n",
    "train_dataset = datasets.MNIST(root=\".\", train=True, download=True, transform=transform)\n",
    "train_loader = DataLoader(train_dataset, batch_size=batch_size, shuffle=True)"
   ]
  },
  {
   "cell_type": "code",
   "execution_count": 3,
   "id": "ecf34eeb-a727-4961-bf0f-d33e04386867",
   "metadata": {},
   "outputs": [],
   "source": [
    "# Configuration\n",
    "device = \"cuda\" if torch.cuda.is_available() else \"cpu\"\n",
    "image_size = 32  \n",
    "batch_size = 128\n",
    "num_epochs = 10\n",
    "num_classes = 10\n",
    "drop_label_prob = 0.2  # Probability to drop class labels (for CFG)"
   ]
  },
  {
   "cell_type": "code",
   "execution_count": 4,
   "id": "d2f40528-55fd-4936-8228-1aefe265d0ea",
   "metadata": {},
   "outputs": [],
   "source": [
    "model = UNet2DModel(\n",
    "    sample_size=image_size,\n",
    "    in_channels=1,     \n",
    "    out_channels=1,\n",
    "    layers_per_block=2,\n",
    "    block_out_channels=(64, 128, 256, 512),\n",
    "    class_embed_type=\"timestep\",  \n",
    "    num_class_embeds=num_classes,\n",
    ").to(device)\n",
    "\n",
    "noise_scheduler = DDPMScheduler(num_train_timesteps=1000)\n",
    "optimizer = torch.optim.Adam(model.parameters(), lr=1e-4)"
   ]
  },
  {
   "cell_type": "code",
   "execution_count": 5,
   "id": "43a8e77c-8ba9-4a98-b108-e471ecf3ad06",
   "metadata": {},
   "outputs": [
    {
     "name": "stderr",
     "output_type": "stream",
     "text": [
      "Epoch 0 | Loss: 0.0269: 100%|██████████| 469/469 [00:52<00:00,  8.91it/s]\n",
      "Epoch 1 | Loss: 0.0165: 100%|██████████| 469/469 [00:54<00:00,  8.59it/s]\n",
      "Epoch 2 | Loss: 0.0211: 100%|██████████| 469/469 [00:55<00:00,  8.44it/s]\n",
      "Epoch 3 | Loss: 0.0179: 100%|██████████| 469/469 [00:56<00:00,  8.36it/s]\n",
      "Epoch 4 | Loss: 0.0190: 100%|██████████| 469/469 [00:56<00:00,  8.34it/s]\n",
      "Epoch 5 | Loss: 0.0159: 100%|██████████| 469/469 [00:56<00:00,  8.33it/s]\n",
      "Epoch 6 | Loss: 0.0170: 100%|██████████| 469/469 [00:56<00:00,  8.34it/s]\n",
      "Epoch 7 | Loss: 0.0209: 100%|██████████| 469/469 [00:56<00:00,  8.34it/s]\n",
      "Epoch 8 | Loss: 0.0121: 100%|██████████| 469/469 [00:56<00:00,  8.34it/s]\n",
      "Epoch 9 | Loss: 0.0128: 100%|██████████| 469/469 [00:56<00:00,  8.34it/s]\n"
     ]
    }
   ],
   "source": [
    "model.train()\n",
    "for epoch in range(num_epochs):\n",
    "    pbar = tqdm(train_loader)\n",
    "    for x, y in pbar:\n",
    "        x = x.to(device)\n",
    "        y = y.to(device)\n",
    "\n",
    "        noise = torch.randn_like(x)\n",
    "        timesteps = torch.randint(0, noise_scheduler.config.num_train_timesteps, (x.shape[0],), device=device).long()\n",
    "        noisy_x = noise_scheduler.add_noise(x, noise, timesteps)\n",
    "\n",
    "        # Randomly drop labels for CFG\n",
    "        drop_mask = torch.rand(y.shape[0], device=device) < drop_label_prob\n",
    "        y_dropped = y.clone()\n",
    "        y_dropped[drop_mask] = -1  # -1 for \"null\" class\n",
    "\n",
    "        noise_pred = model(noisy_x, timesteps, class_labels=y_dropped).sample\n",
    "        loss = nn.MSELoss()(noise_pred, noise)\n",
    "\n",
    "        optimizer.zero_grad()\n",
    "        loss.backward()\n",
    "        optimizer.step()\n",
    "        pbar.set_description(f\"Epoch {epoch} | Loss: {loss.item():.4f}\")\n"
   ]
  },
  {
   "cell_type": "markdown",
   "id": "552b25e7-9476-48c0-bbfb-c7ec9ab1f982",
   "metadata": {},
   "source": [
    "# Inference"
   ]
  },
  {
   "cell_type": "code",
   "execution_count": 6,
   "id": "ede9e83b-4272-4e3e-8f06-9fcd5cda891d",
   "metadata": {},
   "outputs": [],
   "source": [
    "# 0 = Uncondtioned, 1 = Conditioned, 0-1 = Interpolation, >1 = Extrapolation\n",
    "guidance_scale = 3.0   # Adjust for stronger/weaker conditioning\n",
    "\n",
    "num_samples = 8\n",
    "target_label = 3       # Digit to generate"
   ]
  },
  {
   "cell_type": "code",
   "execution_count": 7,
   "id": "95335ae7-8f45-4dcb-b546-e4c9481647f4",
   "metadata": {},
   "outputs": [
    {
     "name": "stderr",
     "output_type": "stream",
     "text": [
      "1000it [00:17, 58.77it/s]\n"
     ]
    }
   ],
   "source": [
    "model.eval()\n",
    "\n",
    "# Initialize noise samples\n",
    "samples = torch.randn((num_samples, 1, image_size, image_size), device=device)\n",
    "\n",
    "# Denoising loop\n",
    "for t in tqdm(reversed(range(noise_scheduler.config.num_train_timesteps))):\n",
    "    t_tensor = torch.full((num_samples,), t, device=device).long()\n",
    "\n",
    "    # Prepare label tensors\n",
    "    uncond_labels = torch.full((num_samples,), -1, device=device).long()\n",
    "    cond_labels = torch.full((num_samples,), target_label, device=device).long()\n",
    "\n",
    "    with torch.no_grad():\n",
    "        uncond_pred = model(samples, t_tensor, class_labels=uncond_labels).sample\n",
    "        cond_pred = model(samples, t_tensor, class_labels=cond_labels).sample\n",
    "\n",
    "        # CFG\n",
    "        guided_noise = uncond_pred + guidance_scale * (cond_pred - uncond_pred)\n",
    "\n",
    "        # Update samples\n",
    "        samples = noise_scheduler.step(guided_noise, t, samples).prev_sample\n",
    "\n",
    "# Post-process and save\n",
    "samples = (samples.clamp(-1, 1) + 1) / 2\n",
    "samples *= 255.0\n",
    "samples = samples.detach().cpu()"
   ]
  },
  {
   "cell_type": "code",
   "execution_count": 8,
   "id": "c5d3abce-ed94-40d5-a3e4-d064d6d981ac",
   "metadata": {},
   "outputs": [
    {
     "data": {
      "image/png": "[encoded data removed]",
      "text/plain": [
       "<Figure size 800x100 with 8 Axes>"
      ]
     },
     "metadata": {},
     "output_type": "display_data"
    }
   ],
   "source": [
    "fig, axs = plt.subplots(1, num_samples, figsize=(num_samples, 1))\n",
    "for i, ax in enumerate(axs):\n",
    "    ax.imshow(samples[i, 0], cmap=\"gray\", vmin=0, vmax=255)\n",
    "    ax.axis(\"off\")\n",
    "plt.tight_layout()\n",
    "plt.show()"
   ]
  },
  {
   "cell_type": "code",
   "execution_count": null,
   "id": "375d0ba3-fed4-4de6-b00f-c4c01aa7d878",
   "metadata": {},
   "outputs": [],
   "source": []
  },
  {
   "cell_type": "code",
   "execution_count": null,
   "id": "a7d0d403-e385-46c6-b479-21e0062b4db7",
   "metadata": {},
   "outputs": [],
   "source": []
  }
 ],
 "metadata": {
  "kernelspec": {
   "display_name": "nchaudhari_jupyter",
   "language": "python",
   "name": "nchaudhari_jupyter"
  },
  "language_info": {
   "codemirror_mode": {
    "name": "ipython",
    "version": 3
   },
   "file_extension": ".py",
   "mimetype": "text/x-python",
   "name": "python",
   "nbconvert_exporter": "python",
   "pygments_lexer": "ipython3",
   "version": "3.10.12"
  }
 },
 "nbformat": 4,
 "nbformat_minor": 5
}
